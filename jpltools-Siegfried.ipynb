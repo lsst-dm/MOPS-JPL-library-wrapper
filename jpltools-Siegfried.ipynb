{
 "cells": [
  {
   "cell_type": "markdown",
   "metadata": {},
   "source": [
    "# JPL Ephemeris calculation and orbit propagation for LSST "
   ]
  },
  {
   "cell_type": "code",
   "execution_count": 1,
   "metadata": {},
   "outputs": [],
   "source": [
    "# This is an example notebook presenting the use of the f2py wrapped ssd module kindly made available to LSST by the NASA Jet Propulsion Laboratory, California Institute of Technology \n",
    "# The ssd module is under JPL/CalTech license (distribution and use limited to LSST)\n",
    "# written by S. Eggl 20190720 LSST/University of Washington"
   ]
  },
  {
   "cell_type": "code",
   "execution_count": 1,
   "metadata": {},
   "outputs": [],
   "source": [
    "import numpy as np\n",
    "import json\n",
    "import requests\n",
    "import pandas as pd"
   ]
  },
  {
   "cell_type": "code",
   "execution_count": 2,
   "metadata": {},
   "outputs": [],
   "source": [
    "import ssd"
   ]
  },
  {
   "cell_type": "code",
   "execution_count": 3,
   "metadata": {},
   "outputs": [],
   "source": [
    "#import ssd_unit_tests"
   ]
  },
  {
   "cell_type": "code",
   "execution_count": 4,
   "metadata": {},
   "outputs": [
    {
     "name": "stdout",
     "output_type": "stream",
     "text": [
      "/astro/users/eggl/JPL/JPLTOOLS/jpl-libraries/test\r\n"
     ]
    }
   ],
   "source": [
    "!pwd"
   ]
  },
  {
   "cell_type": "code",
   "execution_count": 5,
   "metadata": {},
   "outputs": [],
   "source": [
    "obs_code='807'\n",
    "ut0 = np.array([58468.0,58568.0,58668.0,58768.0])\n",
    "cov_int=1\n",
    "n_eph=len(ut0)\n",
    "Tref=2400000.5"
   ]
  },
  {
   "cell_type": "code",
   "execution_count": 6,
   "metadata": {},
   "outputs": [],
   "source": [
    "#TARGET\n",
    "tname='Siegfried'"
   ]
  },
  {
   "cell_type": "code",
   "execution_count": 7,
   "metadata": {},
   "outputs": [],
   "source": [
    "url=\"https://ssd-api.jpl.nasa.gov/sbdb.api?sstr=\"+tname+\"&cov=src&phys-par=true&full-prec=true\""
   ]
  },
  {
   "cell_type": "code",
   "execution_count": 8,
   "metadata": {},
   "outputs": [],
   "source": [
    "r=requests.request(\"GET\",url)"
   ]
  },
  {
   "cell_type": "code",
   "execution_count": 9,
   "metadata": {},
   "outputs": [],
   "source": [
    "#r.text"
   ]
  },
  {
   "cell_type": "code",
   "execution_count": 10,
   "metadata": {},
   "outputs": [],
   "source": [
    "ast=json.loads(r.text)"
   ]
  },
  {
   "cell_type": "code",
   "execution_count": 11,
   "metadata": {},
   "outputs": [],
   "source": [
    "#spectral slope parameter G\n",
    "g_param=0.15\n",
    "\n",
    "#absolute magnitude H\n",
    "h_v=ast['phys_par'][0]['value']\n",
    "\n",
    "#epoch of orbital elements at Tref [MJD]\n",
    "epoch_mjd=float(ast['orbit']['epoch'])-Tref\n",
    "\n",
    "#orbital elements\n",
    "elem=ast['orbit']['elements']\n",
    "hdr=[]\n",
    "val=[]\n",
    "for i in range(len(elem)):\n",
    "    hdr.append(elem[i]['name'])\n",
    "    val.append(elem[i]['value'])\n",
    "\n",
    "#pic cometary orbital elements: e,q[au],tp[MJD],node[deg],peri[deg],inc[deg]\n",
    "idx=[0,2,7,4,5,3]\n",
    "elements=[]\n",
    "for i in idx:\n",
    "    if(elem[i]['name']=='tp'):\n",
    "            elements.append(float(elem[i]['value'])-Tref)\n",
    "    else:\n",
    "            elements.append(float(elem[i]['value']))\n",
    "\n",
    "#square root covariance matrix for cometary orbital elements\n",
    "src=ast['orbit']['covariance']['data']\n"
   ]
  },
  {
   "cell_type": "code",
   "execution_count": 12,
   "metadata": {},
   "outputs": [
    {
     "data": {
      "text/plain": [
       "'12.8'"
      ]
     },
     "execution_count": 12,
     "metadata": {},
     "output_type": "execute_result"
    }
   ],
   "source": [
    "#absolute magnitude H\n",
    "h_v"
   ]
  },
  {
   "cell_type": "code",
   "execution_count": 13,
   "metadata": {},
   "outputs": [
    {
     "data": {
      "text/plain": [
       "58600.0"
      ]
     },
     "execution_count": 13,
     "metadata": {},
     "output_type": "execute_result"
    }
   ],
   "source": [
    "#epoch of osculating cometary orbital elements\n",
    "epoch_mjd"
   ]
  },
  {
   "cell_type": "code",
   "execution_count": 14,
   "metadata": {},
   "outputs": [
    {
     "data": {
      "text/plain": [
       "['e', 'a', 'q', 'i', 'om', 'w', 'ma', 'tp', 'per', 'n', 'ad']"
      ]
     },
     "execution_count": 14,
     "metadata": {},
     "output_type": "execute_result"
    }
   ],
   "source": [
    "hdr"
   ]
  },
  {
   "cell_type": "code",
   "execution_count": 15,
   "metadata": {},
   "outputs": [
    {
     "data": {
      "text/plain": [
       "[0.007179709583604317,\n",
       " 3.224300394965053,\n",
       " 59019.99074555654,\n",
       " 57.94736169556705,\n",
       " 297.060245083253,\n",
       " 8.94174142498718]"
      ]
     },
     "execution_count": 15,
     "metadata": {},
     "output_type": "execute_result"
    }
   ],
   "source": [
    "elements"
   ]
  },
  {
   "cell_type": "code",
   "execution_count": 16,
   "metadata": {},
   "outputs": [
    {
     "data": {
      "text/plain": [
       "['-7.30758692296977E-9',\n",
       " '4.382705220637333E-8',\n",
       " '-1.50567315673694E-7',\n",
       " '-1.580393656215238E-8',\n",
       " '4.990217319865802E-8',\n",
       " '-2.144863132279895E-5',\n",
       " '-1.522924868782715E-9',\n",
       " '4.310160088087949E-9',\n",
       " '-.0001765466699452076',\n",
       " '-5.220128811753229E-7',\n",
       " '-1.227256440856608E-8',\n",
       " '3.471999146585647E-8',\n",
       " '-.001280090122935523',\n",
       " '7.088113260704621E-8',\n",
       " '-3.807627393885189E-6',\n",
       " '-2.723681462245841E-10',\n",
       " '7.394772596575109E-10',\n",
       " '1.160018565127471E-5',\n",
       " '8.240009079701517E-8',\n",
       " '-4.736490292424078E-8',\n",
       " '-8.370061313329297E-8']"
      ]
     },
     "execution_count": 16,
     "metadata": {},
     "output_type": "execute_result"
    }
   ],
   "source": [
    "src"
   ]
  },
  {
   "cell_type": "code",
   "execution_count": 17,
   "metadata": {},
   "outputs": [],
   "source": [
    "ssd.ssd.ssd_init()"
   ]
  },
  {
   "cell_type": "code",
   "execution_count": 18,
   "metadata": {},
   "outputs": [],
   "source": [
    "#call f2py wrapped SSD ephemeris function \n",
    "[ra, dec, err_ra, err_dec, smaa, smia,pa, v_minus_h, errcod]=ssd.ssd.ssd_compute_n_ephemerides(epoch_mjd,elements, src, obs_code, g_param, ut0, cov_int)"
   ]
  },
  {
   "cell_type": "code",
   "execution_count": 19,
   "metadata": {},
   "outputs": [
    {
     "data": {
      "text/plain": [
       "array([58468., 58568., 58668., 58768.])"
      ]
     },
     "execution_count": 19,
     "metadata": {},
     "output_type": "execute_result"
    }
   ],
   "source": [
    "#output times\n",
    "ut0"
   ]
  },
  {
   "cell_type": "code",
   "execution_count": 20,
   "metadata": {},
   "outputs": [],
   "source": [
    "#ephemerides (RA, DEC) [deg]\n",
    "radec=np.rad2deg(np.array([ra,dec]))"
   ]
  },
  {
   "cell_type": "code",
   "execution_count": 21,
   "metadata": {},
   "outputs": [],
   "source": [
    "#3 sigma error in RA and DEC [arcseconds?]\n",
    "err=3*np.array([err_ra,err_dec])"
   ]
  },
  {
   "cell_type": "code",
   "execution_count": 22,
   "metadata": {},
   "outputs": [],
   "source": [
    "#3 sigma semimajor and semiminor axis of skyplane ellipsiod\n",
    "ell=3*np.array([smaa, smia])"
   ]
  },
  {
   "cell_type": "code",
   "execution_count": 23,
   "metadata": {},
   "outputs": [],
   "source": [
    "results=pd.DataFrame(zip(ut0,radec[0],radec[1],err[0],err[1],ell[0],ell[1]),columns=['UT0','RA','DEC','3_sig_err_RA','3_sig_err_DEC','SMAA','SMIA'])"
   ]
  },
  {
   "cell_type": "code",
   "execution_count": 24,
   "metadata": {},
   "outputs": [
    {
     "data": {
      "text/html": [
       "<div>\n",
       "<style scoped>\n",
       "    .dataframe tbody tr th:only-of-type {\n",
       "        vertical-align: middle;\n",
       "    }\n",
       "\n",
       "    .dataframe tbody tr th {\n",
       "        vertical-align: top;\n",
       "    }\n",
       "\n",
       "    .dataframe thead th {\n",
       "        text-align: right;\n",
       "    }\n",
       "</style>\n",
       "<table border=\"1\" class=\"dataframe\">\n",
       "  <thead>\n",
       "    <tr style=\"text-align: right;\">\n",
       "      <th></th>\n",
       "      <th>UT0</th>\n",
       "      <th>RA</th>\n",
       "      <th>DEC</th>\n",
       "      <th>3_sig_err_RA</th>\n",
       "      <th>3_sig_err_DEC</th>\n",
       "      <th>SMAA</th>\n",
       "      <th>SMIA</th>\n",
       "    </tr>\n",
       "  </thead>\n",
       "  <tbody>\n",
       "    <tr>\n",
       "      <th>0</th>\n",
       "      <td>58468.0</td>\n",
       "      <td>260.672628</td>\n",
       "      <td>-25.869765</td>\n",
       "      <td>0.065296</td>\n",
       "      <td>0.042854</td>\n",
       "      <td>0.066103</td>\n",
       "      <td>0.041598</td>\n",
       "    </tr>\n",
       "    <tr>\n",
       "      <th>1</th>\n",
       "      <td>58568.0</td>\n",
       "      <td>297.643401</td>\n",
       "      <td>-26.522115</td>\n",
       "      <td>0.079724</td>\n",
       "      <td>0.052317</td>\n",
       "      <td>0.079895</td>\n",
       "      <td>0.052056</td>\n",
       "    </tr>\n",
       "    <tr>\n",
       "      <th>2</th>\n",
       "      <td>58668.0</td>\n",
       "      <td>305.546897</td>\n",
       "      <td>-30.451137</td>\n",
       "      <td>0.121074</td>\n",
       "      <td>0.080357</td>\n",
       "      <td>0.122255</td>\n",
       "      <td>0.078549</td>\n",
       "    </tr>\n",
       "    <tr>\n",
       "      <th>3</th>\n",
       "      <td>58768.0</td>\n",
       "      <td>297.423988</td>\n",
       "      <td>-30.540080</td>\n",
       "      <td>0.087669</td>\n",
       "      <td>0.059135</td>\n",
       "      <td>0.088077</td>\n",
       "      <td>0.058526</td>\n",
       "    </tr>\n",
       "  </tbody>\n",
       "</table>\n",
       "</div>"
      ],
      "text/plain": [
       "       UT0          RA        DEC  3_sig_err_RA  3_sig_err_DEC      SMAA  \\\n",
       "0  58468.0  260.672628 -25.869765      0.065296       0.042854  0.066103   \n",
       "1  58568.0  297.643401 -26.522115      0.079724       0.052317  0.079895   \n",
       "2  58668.0  305.546897 -30.451137      0.121074       0.080357  0.122255   \n",
       "3  58768.0  297.423988 -30.540080      0.087669       0.059135  0.088077   \n",
       "\n",
       "       SMIA  \n",
       "0  0.041598  \n",
       "1  0.052056  \n",
       "2  0.078549  \n",
       "3  0.058526  "
      ]
     },
     "execution_count": 24,
     "metadata": {},
     "output_type": "execute_result"
    }
   ],
   "source": [
    "results"
   ]
  },
  {
   "cell_type": "code",
   "execution_count": 25,
   "metadata": {},
   "outputs": [],
   "source": [
    "# JPL/HORIZONS            15147 Siegfried (2000 EJ134)       2019-Jul-25 00:42:43\n",
    "# Rec #:   15147 (+COV) Soln.date: 2019-May-30_02:18:44   # obs: 1473 (1986-2019)\n",
    " \n",
    "# IAU76/J2000 helio. ecliptic osc. elements (au, days, deg., period=Julian yrs):\n",
    " \n",
    "#   EPOCH=  2456624.5 ! 2013-Nov-28.00 (TDB)         Residual RMS= .31963\n",
    "#    EC= .01172746704294454  QR= 3.209039705486225   TP= 2456833.5581635539\n",
    "#    OM= 58.01315850610064   W=  288.8518457756886   IN= 8.940294161750789\n",
    "#    A= 3.247120200623517    MA= 324.7853272565625   ADIST= 3.285200695760809\n",
    "#    PER= 5.85135            N= .168444375           ANGMOM= .030995651\n",
    "#    DAN= 3.23442            DDN= 3.25902            L= 347.0802137\n",
    "#    B= -8.457096200000001   MOID= 2.21706009        TP= 2014-Jun-25.0581635539\n",
    " \n",
    "# Asteroid physical parameters (km, seconds, rotational period in hours):\n",
    "#    GM= n.a.                RAD= 9.051              ROTPER= n.a.\n",
    "#    H= 12.8                 G= .150                 B-V= n.a.\n",
    "#                            ALBEDO= .037            STYP= n.a.\n",
    " \n",
    "# ASTEROID comments: \n",
    "# 1: soln ref.= JPL#25, OCC=0\n",
    "# 2: source=ORB\n",
    "\n",
    "# Results\n",
    "\n",
    "# *******************************************************************************\n",
    "# Ephemeris / WWW_USER Thu Jul 25 00:42:44 2019 Pasadena, USA      / Horizons    \n",
    "# *******************************************************************************\n",
    "# Target body name: 15147 Siegfried (2000 EJ134)    {source: JPL#25}\n",
    "# Center body name: Earth (399)                     {source: DE431}\n",
    "# Center-site name: Cerro Tololo Observatory, La Serena\n",
    "# *******************************************************************************\n",
    "# Start time      : A.D. 2018-Dec-16 00:00:00.0000 UT      \n",
    "# Stop  time      : A.D. 2019-Oct-12 00:00:00.0000 UT      \n",
    "# Step-size       : 144000 minutes\n",
    "# *******************************************************************************\n",
    "# Target pole/equ : No model available\n",
    "# Target radii    : 9.1 km                                                       \n",
    "# Center geodetic : 289.194100,-30.169117,2.3888790 {E-lon(deg),Lat(deg),Alt(km)}\n",
    "# Center cylindric: 289.194100,5520.92438,-3187.796 {E-lon(deg),Dxy(km),Dz(km)}\n",
    "# Center pole/equ : High-precision EOP model        {East-longitude positive}\n",
    "# Center radii    : 6378.1 x 6378.1 x 6356.8 km     {Equator, meridian, pole}    \n",
    "# Target primary  : Sun\n",
    "# Vis. interferer : MOON (R_eq= 1737.400) km        {source: DE431}\n",
    "# Rel. light bend : Sun, EARTH                      {source: DE431}\n",
    "# Rel. lght bnd GM: 1.3271E+11, 3.9860E+05 km^3/s^2                              \n",
    "# Small-body perts: Yes                             {source: SB431-N16}\n",
    "# Atmos refraction: NO (AIRLESS)\n",
    "# RA format       : DEG\n",
    "# Time format     : JD  \n",
    "# EOP file        : eop.190724.p191015                                           \n",
    "# EOP coverage    : DATA-BASED 1962-JAN-20 TO 2019-JUL-24. PREDICTS-> 2019-OCT-14\n",
    "# Units conversion: 1 au= 149597870.700 km, c= 299792.458 km/s, 1 day= 86400.0 s \n",
    "# Table cut-offs 1: Elevation (-90.0deg=NO ),Airmass (>38.000=NO), Daylight (NO )\n",
    "# Table cut-offs 2: Solar elongation (  0.0,180.0=NO ),Local Hour Angle( 0.0=NO )\n",
    "# Table cut-offs 3: RA/DEC angular rate (     0.0=NO )                           \n",
    "# *******************************************************************************\n",
    "# Initial IAU76/J2000 heliocentric ecliptic osculating elements (au, days, deg.):\n",
    "#   EPOCH=  2456624.5 ! 2013-Nov-28.00 (TDB)         Residual RMS= .31963        \n",
    "#    EC= .01172746704294454  QR= 3.209039705486225   TP= 2456833.5581635539      \n",
    "#    OM= 58.01315850610064   W=  288.8518457756886   IN= 8.940294161750789       \n",
    "#   Equivalent ICRF heliocentric equatorial cartesian coordinates (au, au/d):\n",
    "#    X= 2.072641281593817E+00  Y=-2.023372080868738E+00  Z=-1.397785215368724E+00\n",
    "#   VX= 7.216568830329465E-03 VY= 6.019215773862436E-03 VZ= 2.139021171685928E-03\n",
    "# Asteroid physical parameters (km, seconds, rotational period in hours):        \n",
    "#    GM= n.a.                RAD= 9.051              ROTPER= n.a.                \n",
    "#    H= 12.8                 G= .150                 B-V= n.a.                   \n",
    "#                            ALBEDO= .037            STYP= n.a.                  \n",
    "# **************************************************************************************************************************************\n",
    "# Date_________JDUT     R.A._(ICRF/J2K)_DEC dRA*cosD d(DEC)/dt  APmag  S-brt RA_3sigma DEC_3sigma SMAA_3sig SMIA_3sig    Theta Area_3sig\n",
    "# **************************************************************************************************************************************\n",
    "# $$SOE\n",
    "# 2458468.500000000 Cm  260.67263 -25.86976 54.55297  -6.05924  18.65   7.24     0.072      0.043     0.073     0.041  -11.457      0.02\n",
    "# 2458568.500000000 A   297.64340 -26.52211 39.16106  1.265288  18.93   7.95     0.094      0.052     0.095     0.052    5.383      0.03\n",
    "# 2458668.500000000     305.54661 -30.45119 -22.2438  -12.3865  17.64   7.58     0.149      0.081     0.151     0.078    9.760      0.07\n",
    "# 2458768.500000000 Am  297.41694 -30.54095 20.10472  9.578836  18.65   7.98     0.111      0.059     0.111     0.058    4.844      0.04\n",
    "# $$EOE\n",
    "# **************************************************************************************************************************************\n",
    "# Column meaning:\n",
    " \n",
    "# TIME\n",
    "\n",
    "#   Times PRIOR to 1962 are UT1, a mean-solar time closely related to the\n",
    "# prior but now-deprecated GMT. Times AFTER 1962 are in UTC, the current\n",
    "# civil or \"wall-clock\" time-scale. UTC is kept within 0.9 seconds of UT1\n",
    "# by introduction of integer leap-seconds for 1972 and later.\n",
    "\n",
    "#   Conversion from the internal Barycentric Dynamical Time (TDB) to the\n",
    "# non-uniform civil UT time-scale requested for output has not been determined\n",
    "# for UTC times after the next July or January 1st. Therefore, the last known\n",
    "# leap-second is used as a constant over future intervals.\n",
    "\n",
    "#   Time tags refer to the UT time-scale conversion on Earth regardless of\n",
    "# where the observer is located in the solar system. For example, if an\n",
    "# observation from the surface of another body has an output time-tag of\n",
    "# 12:31:00 UT, it refers to a time-scale conversion from TDB to UT valid\n",
    "# at the center of the Earth at that instant, not the observer's location\n",
    "# elsewhere in the solar system, where clock rates may differ slightly due\n",
    "# to the local gravity field and there is no precisely defined or adopted\n",
    "# \"UT\" analog.\n",
    "\n",
    "#   Any 'b' symbol in the 1st-column denotes a B.C. date. First-column blank\n",
    "# (\" \") denotes an A.D. date. Calendar dates prior to 1582-Oct-15 are in the\n",
    "# Julian calendar system. Later calendar dates are in the Gregorian system.\n",
    "\n",
    "#   NOTE: \"n.a.\" in output means quantity \"not available\" at the print-time.\n",
    " \n",
    "# SOLAR PRESENCE (OBSERVING SITE)\n",
    "#   Time tag is followed by a blank, then a solar-presence symbol:\n",
    "\n",
    "#         '*'  Daylight (refracted solar upper-limb on or above apparent horizon)\n",
    "#         'C'  Civil twilight/dawn\n",
    "#         'N'  Nautical twilight/dawn\n",
    "#         'A'  Astronomical twilight/dawn\n",
    "#         ' '  Night OR geocentric ephemeris\n",
    "\n",
    "# LUNAR PRESENCE (OBSERVING SITE)\n",
    "#   The solar-presence symbol is immediately followed by a lunar-presence symbol:\n",
    "\n",
    "#         'm'  Refracted upper-limb of Moon on or above apparent horizon\n",
    "#         ' '  Refracted upper-limb of Moon below apparent horizon OR geocentric\n",
    "#              ephemeris\n",
    " \n",
    "# STATISTICAL UNCERTAINTIES\n",
    "\n",
    "#   Output includes formal +/- 3 standard-deviation statistical orbit uncertainty\n",
    "# quantities. There is a 99.7% chance the actual value is within given bounds.\n",
    "# These statistical calculations assume observational data errors are random. If\n",
    "# there are systematic biases (such as timing, reduction or star-catalog errors),\n",
    "# results can be optimistic. Because the epoch covariance is mapped using\n",
    "# linearized variational partial derivatives, results can also be optimistic for\n",
    "# times far from the solution epoch, particularly for objects having close\n",
    "# planetary encounters.\n",
    " \n",
    "#  R.A._(ICRF/J2K)_DEC =\n",
    "#    Astrometric right ascension and declination of the TARGET CENTER with\n",
    "# respect to the observing site in the coordinates of the ICRF/J2000 inertial\n",
    "# reference frame. Compensated for down-leg light-time.\n",
    "#    Units: DEGREES and DEGREES\n",
    " \n",
    "#  dRA*cosD d(DEC)/dt =\n",
    "#     The rate of change of target center apparent RA and DEC (airless).\n",
    "# d(RA)/dt is multiplied by the cosine of the declination.\n",
    "#     Units: ARCSECONDS PER HOUR\n",
    " \n",
    "#  APmag S-brt =\n",
    "#    Asteroid's approximate apparent visual magnitude & surface brightness:\n",
    "#    APmag = H + 5*log10(delta) + 5*log10(r) - 2.5*log10((1-G)*phi1 + G*phi2)\n",
    "# For solar phase angles > 90 deg, the error could exceed 1 magnitude. For\n",
    "# phase angles > 120 degrees, output values are rounded to the nearest integer\n",
    "# to indicate the errors could be large and unknown.\n",
    "#    Units: NONE & VISUAL MAGNITUDES PER SQUARE ARCSECOND\n",
    " \n",
    "#  RA_3sigma DEC_3sigma =\n",
    "#   Uncertainty in Right-Ascension and Declination. Output values are the formal\n",
    "# +/- 3 standard-deviations (sigmas) around nominal position. Units: ARCSECONDS\n",
    " \n",
    "#  SMAA_3sig SMIA_3sig   Theta Area_3sig =\n",
    "#   Plane-of-sky (POS) error ellipse data. These quantities summarize the\n",
    "# target's 3-dimensional 3-standard-deviation formal uncertainty volume projected\n",
    "# into a reference plane perpendicular to the observer's line-of-sight.\n",
    "\n",
    "#    SMAA_3sig = Angular width of the 3-sigma error ellipse semi-major\n",
    "#                 axis in POS. Units: ARCSECONDS.\n",
    "\n",
    "#    SMIA_3sig = Angular width of the 3-sigma error ellipse semi-minor\n",
    "#                 axis in POS. Units: ARCSECONDS.\n",
    "\n",
    "#    Theta     = Orientation angle of the error ellipse in POS; the\n",
    "#                 clockwise angle from the direction of increasing RA to\n",
    "#                 the semi-major axis of the error ellipse, in the\n",
    "#                 direction of increasing DEC.  Units: DEGREES.\n",
    "\n",
    "#    Area_3sig = Area of sky enclosed by the 3-sigma error ellipse.\n",
    "#                 Units: ARCSECONDS ^ 2.\n",
    "\n",
    "\n",
    "#  Computations by ...\n",
    "#      Solar System Dynamics Group, Horizons On-Line Ephemeris System\n",
    "#      4800 Oak Grove Drive, Jet Propulsion Laboratory\n",
    "#      Pasadena, CA  91109   USA\n",
    "#      Information: http://ssd.jpl.nasa.gov/\n",
    "#      Connect    : telnet://ssd.jpl.nasa.gov:6775  (via browser)\n",
    "#                   telnet ssd.jpl.nasa.gov 6775    (via command-line)\n",
    "#      Author     : Jon.D.Giorgini@jpl.nasa.gov\n"
   ]
  },
  {
   "cell_type": "code",
   "execution_count": 88,
   "metadata": {},
   "outputs": [],
   "source": [
    "elems_t=[np.append(t,ssd.ssd.ssd_propagate_elements(epoch_mjd,elements, t)[0]) for t in ut0]"
   ]
  },
  {
   "cell_type": "code",
   "execution_count": 90,
   "metadata": {},
   "outputs": [
    {
     "data": {
      "text/html": [
       "<div>\n",
       "<style scoped>\n",
       "    .dataframe tbody tr th:only-of-type {\n",
       "        vertical-align: middle;\n",
       "    }\n",
       "\n",
       "    .dataframe tbody tr th {\n",
       "        vertical-align: top;\n",
       "    }\n",
       "\n",
       "    .dataframe thead th {\n",
       "        text-align: right;\n",
       "    }\n",
       "</style>\n",
       "<table border=\"1\" class=\"dataframe\">\n",
       "  <thead>\n",
       "    <tr style=\"text-align: right;\">\n",
       "      <th></th>\n",
       "      <th>UT0[MJD]</th>\n",
       "      <th>e</th>\n",
       "      <th>q[au]</th>\n",
       "      <th>tp[MJD]</th>\n",
       "      <th>node[deg]</th>\n",
       "      <th>peri[deg]</th>\n",
       "      <th>inc[deg]</th>\n",
       "    </tr>\n",
       "  </thead>\n",
       "  <tbody>\n",
       "    <tr>\n",
       "      <th>0</th>\n",
       "      <td>58468.0</td>\n",
       "      <td>0.007543</td>\n",
       "      <td>3.225375</td>\n",
       "      <td>58990.314415</td>\n",
       "      <td>57.957275</td>\n",
       "      <td>292.000246</td>\n",
       "      <td>8.944021</td>\n",
       "    </tr>\n",
       "    <tr>\n",
       "      <th>1</th>\n",
       "      <td>58568.0</td>\n",
       "      <td>0.007255</td>\n",
       "      <td>3.224587</td>\n",
       "      <td>59013.043662</td>\n",
       "      <td>57.950033</td>\n",
       "      <td>295.873173</td>\n",
       "      <td>8.942190</td>\n",
       "    </tr>\n",
       "    <tr>\n",
       "      <th>2</th>\n",
       "      <td>58668.0</td>\n",
       "      <td>0.007021</td>\n",
       "      <td>3.223756</td>\n",
       "      <td>59033.621531</td>\n",
       "      <td>57.941599</td>\n",
       "      <td>299.391009</td>\n",
       "      <td>8.941021</td>\n",
       "    </tr>\n",
       "    <tr>\n",
       "      <th>3</th>\n",
       "      <td>58768.0</td>\n",
       "      <td>0.006828</td>\n",
       "      <td>3.223234</td>\n",
       "      <td>59048.115477</td>\n",
       "      <td>57.933771</td>\n",
       "      <td>301.872078</td>\n",
       "      <td>8.940454</td>\n",
       "    </tr>\n",
       "  </tbody>\n",
       "</table>\n",
       "</div>"
      ],
      "text/plain": [
       "   UT0[MJD]         e     q[au]       tp[MJD]  node[deg]   peri[deg]  inc[deg]\n",
       "0   58468.0  0.007543  3.225375  58990.314415  57.957275  292.000246  8.944021\n",
       "1   58568.0  0.007255  3.224587  59013.043662  57.950033  295.873173  8.942190\n",
       "2   58668.0  0.007021  3.223756  59033.621531  57.941599  299.391009  8.941021\n",
       "3   58768.0  0.006828  3.223234  59048.115477  57.933771  301.872078  8.940454"
      ]
     },
     "execution_count": 90,
     "metadata": {},
     "output_type": "execute_result"
    }
   ],
   "source": [
    "pd.DataFrame(elems_t,columns=['UT0[MJD]','e','q[au]','tp[MJD]','node[deg]','peri[deg]','inc[deg]'])"
   ]
  },
  {
   "cell_type": "code",
   "execution_count": 91,
   "metadata": {},
   "outputs": [
    {
     "ename": "SyntaxError",
     "evalue": "invalid syntax (<ipython-input-91-044dcb7ebd0d>, line 1)",
     "output_type": "error",
     "traceback": [
      "\u001b[0;36m  File \u001b[0;32m\"<ipython-input-91-044dcb7ebd0d>\"\u001b[0;36m, line \u001b[0;32m1\u001b[0m\n\u001b[0;31m    results=pd.DataFrame(zip(ut0,[for i in range 6 elems_t[i]]),columns=['UT0']+hdr)\u001b[0m\n\u001b[0m                                    ^\u001b[0m\n\u001b[0;31mSyntaxError\u001b[0m\u001b[0;31m:\u001b[0m invalid syntax\n"
     ]
    }
   ],
   "source": [
    "results=pd.DataFrame(zip(ut0,[for i in range 6 elems_t[i]]),columns=['UT0']+hdr)"
   ]
  },
  {
   "cell_type": "code",
   "execution_count": null,
   "metadata": {},
   "outputs": [],
   "source": []
  }
 ],
 "metadata": {
  "kernelspec": {
   "display_name": "jpltools",
   "language": "python",
   "name": "jpltools"
  },
  "language_info": {
   "codemirror_mode": {
    "name": "ipython",
    "version": 3
   },
   "file_extension": ".py",
   "mimetype": "text/x-python",
   "name": "python",
   "nbconvert_exporter": "python",
   "pygments_lexer": "ipython3",
   "version": "3.6.8"
  }
 },
 "nbformat": 4,
 "nbformat_minor": 2
}
